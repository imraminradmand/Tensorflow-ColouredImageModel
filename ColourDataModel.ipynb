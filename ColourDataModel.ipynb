{
 "cells": [
  {
   "cell_type": "code",
   "execution_count": 1,
   "metadata": {},
   "outputs": [],
   "source": [
    "import pandas as pd\n",
    "import numpy as np\n",
    "import matplotlib.pyplot as plt\n",
    "%matplotlib inline"
   ]
  },
  {
   "cell_type": "code",
   "execution_count": 2,
   "metadata": {},
   "outputs": [],
   "source": [
    "import tensorflow as tf\n",
    "from tensorflow.keras.datasets import cifar10"
   ]
  },
  {
   "cell_type": "code",
   "execution_count": 4,
   "metadata": {},
   "outputs": [
    {
     "name": "stdout",
     "output_type": "stream",
     "text": [
      "Downloading data from https://www.cs.toronto.edu/~kriz/cifar-10-python.tar.gz\n",
      "170500096/170498071 [==============================] - 216s 1us/step\n"
     ]
    }
   ],
   "source": [
    "(x_train, y_train), (x_test, y_test) = cifar10.load_data()"
   ]
  },
  {
   "cell_type": "code",
   "execution_count": 5,
   "metadata": {},
   "outputs": [
    {
     "data": {
      "text/plain": [
       "(32, 32, 3)"
      ]
     },
     "execution_count": 5,
     "metadata": {},
     "output_type": "execute_result"
    }
   ],
   "source": [
    "x_train[0].shape"
   ]
  },
  {
   "cell_type": "markdown",
   "metadata": {},
   "source": [
    "no need to reshape, got what i need"
   ]
  },
  {
   "cell_type": "code",
   "execution_count": 6,
   "metadata": {},
   "outputs": [],
   "source": [
    "x_train = x_train /255"
   ]
  },
  {
   "cell_type": "code",
   "execution_count": 7,
   "metadata": {},
   "outputs": [],
   "source": [
    "x_test = x_test/255"
   ]
  },
  {
   "cell_type": "code",
   "execution_count": 8,
   "metadata": {},
   "outputs": [
    {
     "data": {
      "text/plain": [
       "array([[3],\n",
       "       [8],\n",
       "       [8],\n",
       "       ...,\n",
       "       [5],\n",
       "       [1],\n",
       "       [7]], dtype=uint8)"
      ]
     },
     "execution_count": 8,
     "metadata": {},
     "output_type": "execute_result"
    }
   ],
   "source": [
    "y_test"
   ]
  },
  {
   "cell_type": "code",
   "execution_count": 10,
   "metadata": {},
   "outputs": [],
   "source": [
    "from tensorflow.keras.utils import to_categorical"
   ]
  },
  {
   "cell_type": "code",
   "execution_count": 11,
   "metadata": {},
   "outputs": [],
   "source": [
    "y_cat_train = to_categorical(y_train, 10)"
   ]
  },
  {
   "cell_type": "code",
   "execution_count": 12,
   "metadata": {},
   "outputs": [],
   "source": [
    "y_cat_test = to_categorical(y_test, 10)"
   ]
  },
  {
   "cell_type": "markdown",
   "metadata": {},
   "source": [
    "need to change the values to categories"
   ]
  },
  {
   "cell_type": "code",
   "execution_count": 13,
   "metadata": {},
   "outputs": [
    {
     "data": {
      "text/plain": [
       "<matplotlib.image.AxesImage at 0x7fe1701f9810>"
      ]
     },
     "execution_count": 13,
     "metadata": {},
     "output_type": "execute_result"
    },
    {
     "data": {
      "image/png": "[encoded data removed]",
      "text/plain": [
       "<Figure size 432x288 with 1 Axes>"
      ]
     },
     "metadata": {
      "needs_background": "light"
     },
     "output_type": "display_data"
    }
   ],
   "source": [
    "plt.imshow(x_train[0])"
   ]
  },
  {
   "cell_type": "code",
   "execution_count": 14,
   "metadata": {},
   "outputs": [],
   "source": [
    "from tensorflow.keras.models import Sequential\n",
    "from tensorflow.keras.layers import Dense, Activation, Conv2D, MaxPool2D, Flatten"
   ]
  },
  {
   "cell_type": "code",
   "execution_count": 15,
   "metadata": {},
   "outputs": [],
   "source": [
    "model = Sequential()\n",
    "\n",
    "model.add(Conv2D(filters=32, kernel_size=(4,4), input_shape=(32,32,3), activation='relu')) #grab input shape from the code we ran earlier\n",
    "model.add(MaxPool2D(pool_size=(2, 2)))\n",
    "\n",
    "model.add(Conv2D(filters=64, kernel_size=(4,4), input_shape=(32,32,3), activation='relu')) #grab input shape from the code we ran earlier\n",
    "model.add(MaxPool2D(pool_size=(2, 2)))\n",
    "\n",
    "model.add(Flatten())\n",
    "\n",
    "model.add(Dense(256, activation = 'relu')) #more complex since colours are involved so added more neurons\n",
    "\n",
    "model.add(Dense(10, activation='softmax')) #softmax since multiclass problem\n",
    "\n",
    "model.compile(loss='categorical_crossentropy', optimizer = 'adam', metrics = ['accuracy'])"
   ]
  },
  {
   "cell_type": "code",
   "execution_count": 16,
   "metadata": {},
   "outputs": [],
   "source": [
    "from tensorflow.keras.callbacks import EarlyStopping"
   ]
  },
  {
   "cell_type": "code",
   "execution_count": 17,
   "metadata": {},
   "outputs": [],
   "source": [
    "early_stop = EarlyStopping(monitor='val_losses', patience = 3)"
   ]
  },
  {
   "cell_type": "code",
   "execution_count": 18,
   "metadata": {},
   "outputs": [
    {
     "name": "stdout",
     "output_type": "stream",
     "text": [
      "Train on 50000 samples, validate on 10000 samples\n",
      "Epoch 1/20\n",
      "49952/50000 [============================>.] - ETA: 0s - loss: 1.4780 - accuracy: 0.4684WARNING:tensorflow:Early stopping conditioned on metric `val_losses` which is not available. Available metrics are: loss,accuracy,val_loss,val_accuracy\n",
      "50000/50000 [==============================] - 64s 1ms/sample - loss: 1.4775 - accuracy: 0.4686 - val_loss: 1.2619 - val_accuracy: 0.5573\n",
      "Epoch 2/20\n",
      "49984/50000 [============================>.] - ETA: 0s - loss: 1.1336 - accuracy: 0.6005WARNING:tensorflow:Early stopping conditioned on metric `val_losses` which is not available. Available metrics are: loss,accuracy,val_loss,val_accuracy\n",
      "50000/50000 [==============================] - 57s 1ms/sample - loss: 1.1335 - accuracy: 0.6005 - val_loss: 1.0887 - val_accuracy: 0.6148\n",
      "Epoch 3/20\n",
      "49952/50000 [============================>.] - ETA: 0s - loss: 0.9786 - accuracy: 0.6580WARNING:tensorflow:Early stopping conditioned on metric `val_losses` which is not available. Available metrics are: loss,accuracy,val_loss,val_accuracy\n",
      "50000/50000 [==============================] - 54s 1ms/sample - loss: 0.9788 - accuracy: 0.6578 - val_loss: 1.0646 - val_accuracy: 0.6310\n",
      "Epoch 4/20\n",
      "49984/50000 [============================>.] - ETA: 0s - loss: 0.8636 - accuracy: 0.6988WARNING:tensorflow:Early stopping conditioned on metric `val_losses` which is not available. Available metrics are: loss,accuracy,val_loss,val_accuracy\n",
      "50000/50000 [==============================] - 56s 1ms/sample - loss: 0.8636 - accuracy: 0.6988 - val_loss: 0.9822 - val_accuracy: 0.6672\n",
      "Epoch 5/20\n",
      "49984/50000 [============================>.] - ETA: 0s - loss: 0.7652 - accuracy: 0.7336WARNING:tensorflow:Early stopping conditioned on metric `val_losses` which is not available. Available metrics are: loss,accuracy,val_loss,val_accuracy\n",
      "50000/50000 [==============================] - 53s 1ms/sample - loss: 0.7652 - accuracy: 0.7336 - val_loss: 1.0084 - val_accuracy: 0.6615\n",
      "Epoch 6/20\n",
      "49952/50000 [============================>.] - ETA: 0s - loss: 0.6748 - accuracy: 0.7636WARNING:tensorflow:Early stopping conditioned on metric `val_losses` which is not available. Available metrics are: loss,accuracy,val_loss,val_accuracy\n",
      "50000/50000 [==============================] - 53s 1ms/sample - loss: 0.6747 - accuracy: 0.7636 - val_loss: 0.9727 - val_accuracy: 0.6810\n",
      "Epoch 7/20\n",
      "49952/50000 [============================>.] - ETA: 0s - loss: 0.5871 - accuracy: 0.7957WARNING:tensorflow:Early stopping conditioned on metric `val_losses` which is not available. Available metrics are: loss,accuracy,val_loss,val_accuracy\n",
      "50000/50000 [==============================] - 53s 1ms/sample - loss: 0.5871 - accuracy: 0.7956 - val_loss: 0.9998 - val_accuracy: 0.6809\n",
      "Epoch 8/20\n",
      "49984/50000 [============================>.] - ETA: 0s - loss: 0.5032 - accuracy: 0.8220WARNING:tensorflow:Early stopping conditioned on metric `val_losses` which is not available. Available metrics are: loss,accuracy,val_loss,val_accuracy\n",
      "50000/50000 [==============================] - 55s 1ms/sample - loss: 0.5032 - accuracy: 0.8220 - val_loss: 1.0451 - val_accuracy: 0.6803\n",
      "Epoch 9/20\n",
      "49952/50000 [============================>.] - ETA: 0s - loss: 0.4314 - accuracy: 0.8486WARNING:tensorflow:Early stopping conditioned on metric `val_losses` which is not available. Available metrics are: loss,accuracy,val_loss,val_accuracy\n",
      "50000/50000 [==============================] - 58s 1ms/sample - loss: 0.4312 - accuracy: 0.8487 - val_loss: 1.1421 - val_accuracy: 0.6782\n",
      "Epoch 10/20\n",
      "49952/50000 [============================>.] - ETA: 0s - loss: 0.3596 - accuracy: 0.8726WARNING:tensorflow:Early stopping conditioned on metric `val_losses` which is not available. Available metrics are: loss,accuracy,val_loss,val_accuracy\n",
      "50000/50000 [==============================] - 57s 1ms/sample - loss: 0.3596 - accuracy: 0.8727 - val_loss: 1.2693 - val_accuracy: 0.6627\n",
      "Epoch 11/20\n",
      "49984/50000 [============================>.] - ETA: 0s - loss: 0.2973 - accuracy: 0.8948WARNING:tensorflow:Early stopping conditioned on metric `val_losses` which is not available. Available metrics are: loss,accuracy,val_loss,val_accuracy\n",
      "50000/50000 [==============================] - 56s 1ms/sample - loss: 0.2974 - accuracy: 0.8948 - val_loss: 1.3084 - val_accuracy: 0.6695\n",
      "Epoch 12/20\n",
      "49952/50000 [============================>.] - ETA: 0s - loss: 0.2548 - accuracy: 0.9103 ETA: 0s - loss: 0.2550 - accuracy: WARNING:tensorflow:Early stopping conditioned on metric `val_losses` which is not available. Available metrics are: loss,accuracy,val_loss,val_accuracy\n",
      "50000/50000 [==============================] - 55s 1ms/sample - loss: 0.2548 - accuracy: 0.9103 - val_loss: 1.4700 - val_accuracy: 0.6664\n",
      "Epoch 13/20\n",
      "49984/50000 [============================>.] - ETA: 0s - loss: 0.2111 - accuracy: 0.9264WARNING:tensorflow:Early stopping conditioned on metric `val_losses` which is not available. Available metrics are: loss,accuracy,val_loss,val_accuracy\n",
      "50000/50000 [==============================] - 55s 1ms/sample - loss: 0.2111 - accuracy: 0.9264 - val_loss: 1.6333 - val_accuracy: 0.6626\n",
      "Epoch 14/20\n",
      "49984/50000 [============================>.] - ETA: 0s - loss: 0.1827 - accuracy: 0.9366WARNING:tensorflow:Early stopping conditioned on metric `val_losses` which is not available. Available metrics are: loss,accuracy,val_loss,val_accuracy\n",
      "50000/50000 [==============================] - 56s 1ms/sample - loss: 0.1828 - accuracy: 0.9366 - val_loss: 1.6637 - val_accuracy: 0.6678\n",
      "Epoch 15/20\n",
      "49984/50000 [============================>.] - ETA: 0s - loss: 0.1556 - accuracy: 0.9450WARNING:tensorflow:Early stopping conditioned on metric `val_losses` which is not available. Available metrics are: loss,accuracy,val_loss,val_accuracy\n",
      "50000/50000 [==============================] - 55s 1ms/sample - loss: 0.1556 - accuracy: 0.9450 - val_loss: 1.8601 - val_accuracy: 0.6602\n",
      "Epoch 16/20\n",
      "49952/50000 [============================>.] - ETA: 0s - loss: 0.1426 - accuracy: 0.9501WARNING:tensorflow:Early stopping conditioned on metric `val_losses` which is not available. Available metrics are: loss,accuracy,val_loss,val_accuracy\n",
      "50000/50000 [==============================] - 56s 1ms/sample - loss: 0.1425 - accuracy: 0.9501 - val_loss: 1.9592 - val_accuracy: 0.6563\n",
      "Epoch 17/20\n",
      "49952/50000 [============================>.] - ETA: 0s - loss: 0.1305 - accuracy: 0.9550 ETA: 0s - loss: 0.1299 WARNING:tensorflow:Early stopping conditioned on metric `val_losses` which is not available. Available metrics are: loss,accuracy,val_loss,val_accuracy\n",
      "50000/50000 [==============================] - 57s 1ms/sample - loss: 0.1305 - accuracy: 0.9550 - val_loss: 2.1684 - val_accuracy: 0.6600\n",
      "Epoch 18/20\n",
      "49952/50000 [============================>.] - ETA: 0s - loss: 0.1329 - accuracy: 0.9547 ETA: WARNING:tensorflow:Early stopping conditioned on metric `val_losses` which is not available. Available metrics are: loss,accuracy,val_loss,val_accuracy\n",
      "50000/50000 [==============================] - 56s 1ms/sample - loss: 0.1329 - accuracy: 0.9547 - val_loss: 2.2186 - val_accuracy: 0.6545\n",
      "Epoch 19/20\n",
      "49984/50000 [============================>.] - ETA: 0s - loss: 0.1150 - accuracy: 0.9603 ETA: 1s - loss: 0.1146 - accura - ETA: 1s - loss: 0.1147 - ac - ETA: 0s - loss: 0.114WARNING:tensorflow:Early stopping conditioned on metric `val_losses` which is not available. Available metrics are: loss,accuracy,val_loss,val_accuracy\n",
      "50000/50000 [==============================] - 57s 1ms/sample - loss: 0.1149 - accuracy: 0.9603 - val_loss: 2.2877 - val_accuracy: 0.6616\n",
      "Epoch 20/20\n",
      "49952/50000 [============================>.] - ETA: 0s - loss: 0.1105 - accuracy: 0.9622WARNING:tensorflow:Early stopping conditioned on metric `val_losses` which is not available. Available metrics are: loss,accuracy,val_loss,val_accuracy\n",
      "50000/50000 [==============================] - 57s 1ms/sample - loss: 0.1105 - accuracy: 0.9622 - val_loss: 2.5149 - val_accuracy: 0.6486\n"
     ]
    },
    {
     "data": {
      "text/plain": [
       "<tensorflow.python.keras.callbacks.History at 0x7fe16fc2df50>"
      ]
     },
     "execution_count": 18,
     "metadata": {},
     "output_type": "execute_result"
    }
   ],
   "source": [
    "model.fit(x_train, y_cat_train, epochs=20, \n",
    "         validation_data = (x_test, y_cat_test), callbacks=[early_stop])"
   ]
  },
  {
   "cell_type": "markdown",
   "metadata": {},
   "source": [
    "96% accuracy on last round"
   ]
  },
  {
   "cell_type": "code",
   "execution_count": 19,
   "metadata": {},
   "outputs": [],
   "source": [
    "metrics = pd.DataFrame(model.history.history)"
   ]
  },
  {
   "cell_type": "code",
   "execution_count": 20,
   "metadata": {},
   "outputs": [
    {
     "data": {
      "text/plain": [
       "<matplotlib.axes._subplots.AxesSubplot at 0x7fe16fc4e650>"
      ]
     },
     "execution_count": 20,
     "metadata": {},
     "output_type": "execute_result"
    },
    {
     "data": {
      "image/png": "[encoded data removed]",
      "text/plain": [
       "<Figure size 432x288 with 1 Axes>"
      ]
     },
     "metadata": {
      "needs_background": "light"
     },
     "output_type": "display_data"
    }
   ],
   "source": [
    "metrics[['accuracy', 'val_accuracy']].plot()"
   ]
  },
  {
   "cell_type": "code",
   "execution_count": 21,
   "metadata": {},
   "outputs": [
    {
     "data": {
      "text/plain": [
       "<matplotlib.axes._subplots.AxesSubplot at 0x7fe0fb008310>"
      ]
     },
     "execution_count": 21,
     "metadata": {},
     "output_type": "execute_result"
    },
    {
     "data": {
      "image/png": "[encoded data removed]",
      "text/plain": [
       "<Figure size 432x288 with 1 Axes>"
      ]
     },
     "metadata": {
      "needs_background": "light"
     },
     "output_type": "display_data"
    }
   ],
   "source": [
    "metrics[['loss', 'val_loss']].plot()"
   ]
  },
  {
   "cell_type": "markdown",
   "metadata": {},
   "source": [
    "stop training at like 7 epochs cause it aint looking good"
   ]
  },
  {
   "cell_type": "code",
   "execution_count": 22,
   "metadata": {},
   "outputs": [],
   "source": [
    "from sklearn.metrics import classification_report, confusion_matrix"
   ]
  },
  {
   "cell_type": "code",
   "execution_count": 23,
   "metadata": {},
   "outputs": [],
   "source": [
    "predictions = model.predict_classes(x_test)"
   ]
  },
  {
   "cell_type": "code",
   "execution_count": 24,
   "metadata": {},
   "outputs": [
    {
     "name": "stdout",
     "output_type": "stream",
     "text": [
      "              precision    recall  f1-score   support\n",
      "\n",
      "           0       0.63      0.74      0.68      1000\n",
      "           1       0.68      0.84      0.76      1000\n",
      "           2       0.52      0.59      0.55      1000\n",
      "           3       0.46      0.48      0.47      1000\n",
      "           4       0.65      0.54      0.59      1000\n",
      "           5       0.61      0.39      0.48      1000\n",
      "           6       0.76      0.72      0.74      1000\n",
      "           7       0.69      0.74      0.71      1000\n",
      "           8       0.72      0.79      0.75      1000\n",
      "           9       0.81      0.65      0.72      1000\n",
      "\n",
      "    accuracy                           0.65     10000\n",
      "   macro avg       0.65      0.65      0.64     10000\n",
      "weighted avg       0.65      0.65      0.64     10000\n",
      "\n"
     ]
    }
   ],
   "source": [
    "print(classification_report(y_test, predictions))"
   ]
  },
  {
   "cell_type": "markdown",
   "metadata": {},
   "source": [
    "Considering model would have a 1/10 chance of being right, we got some good accuracy"
   ]
  },
  {
   "cell_type": "markdown",
   "metadata": {},
   "source": [
    "doesnt do too good with cats and dog"
   ]
  },
  {
   "cell_type": "markdown",
   "metadata": {},
   "source": [
    "Does good with cars considering there is a trucks category too"
   ]
  },
  {
   "cell_type": "code",
   "execution_count": 25,
   "metadata": {},
   "outputs": [
    {
     "name": "stdout",
     "output_type": "stream",
     "text": [
      "[[740  27  64  18  10   4   5   9 104  19]\n",
      " [ 21 845   7  14   1   4   7  10  38  53]\n",
      " [ 88  22 590  66  50  45  59  41  32   7]\n",
      " [ 47  31 105 482  77  99  55  55  32  17]\n",
      " [ 49  23 103  80 535  39  52  94  23   2]\n",
      " [ 30  16 116 228  57 394  29  96  21  13]\n",
      " [ 10  37  58  83  39  20 725  12   7   9]\n",
      " [ 34  23  45  48  49  27  11 737  11  15]\n",
      " [ 88  51  21  13   3   6   5   4 790  19]\n",
      " [ 74 163  20  18   5   8   6  15  43 648]]\n"
     ]
    }
   ],
   "source": [
    "print(confusion_matrix(y_test, predictions))"
   ]
  },
  {
   "cell_type": "code",
   "execution_count": 27,
   "metadata": {},
   "outputs": [
    {
     "data": {
      "text/plain": [
       "<matplotlib.axes._subplots.AxesSubplot at 0x7fe0b2b1b950>"
      ]
     },
     "execution_count": 27,
     "metadata": {},
     "output_type": "execute_result"
    },
    {
     "data": {
      "image/png": "[encoded data removed]",
      "text/plain": [
       "<Figure size 720x504 with 2 Axes>"
      ]
     },
     "metadata": {
      "needs_background": "light"
     },
     "output_type": "display_data"
    }
   ],
   "source": [
    "import seaborn as sns\n",
    "\n",
    "plt.figure(figsize=(10,7))\n",
    "sns.heatmap(confusion_matrix(y_test, predictions), annot=True)"
   ]
  },
  {
   "cell_type": "markdown",
   "metadata": {},
   "source": [
    "some confusion between 3 and 5 "
   ]
  },
  {
   "cell_type": "code",
   "execution_count": 26,
   "metadata": {},
   "outputs": [],
   "source": [
    "test = x_test[6]"
   ]
  },
  {
   "cell_type": "code",
   "execution_count": 30,
   "metadata": {},
   "outputs": [
    {
     "data": {
      "text/plain": [
       "<matplotlib.image.AxesImage at 0x7fe0b2f6e150>"
      ]
     },
     "execution_count": 30,
     "metadata": {},
     "output_type": "execute_result"
    },
    {
     "data": {
      "image/png": "[encoded data removed]",
      "text/plain": [
       "<Figure size 432x288 with 1 Axes>"
      ]
     },
     "metadata": {
      "needs_background": "light"
     },
     "output_type": "display_data"
    }
   ],
   "source": [
    "plt.imshow(test.reshape(32,32,3))"
   ]
  },
  {
   "cell_type": "code",
   "execution_count": 32,
   "metadata": {},
   "outputs": [
    {
     "data": {
      "text/plain": [
       "array([1])"
      ]
     },
     "execution_count": 32,
     "metadata": {},
     "output_type": "execute_result"
    }
   ],
   "source": [
    "model.predict_classes(test.reshape(1,32,32,3))"
   ]
  },
  {
   "cell_type": "code",
   "execution_count": 33,
   "metadata": {},
   "outputs": [],
   "source": [
    "from tensorflow.keras.models import load_model"
   ]
  },
  {
   "cell_type": "code",
   "execution_count": 34,
   "metadata": {},
   "outputs": [],
   "source": [
    "model.save('colourimagepredictor.h5')"
   ]
  },
  {
   "cell_type": "code",
   "execution_count": null,
   "metadata": {},
   "outputs": [],
   "source": []
  }
 ],
 "metadata": {
  "kernelspec": {
   "display_name": "Python 3",
   "language": "python",
   "name": "python3"
  },
  "language_info": {
   "codemirror_mode": {
    "name": "ipython",
    "version": 3
   },
   "file_extension": ".py",
   "mimetype": "text/x-python",
   "name": "python",
   "nbconvert_exporter": "python",
   "pygments_lexer": "ipython3",
   "version": "3.7.9"
  }
 },
 "nbformat": 4,
 "nbformat_minor": 4
}
